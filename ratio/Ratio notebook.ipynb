{
 "cells": [
  {
   "cell_type": "code",
   "execution_count": 7,
   "metadata": {},
   "outputs": [],
   "source": [
    "from ratio import *"
   ]
  },
  {
   "cell_type": "code",
   "execution_count": 8,
   "metadata": {},
   "outputs": [
    {
     "name": "stdout",
     "output_type": "stream",
     "text": [
      "For the ratio of 3 power : 75000 cap : 2 bars and xp 10000000000.0 the stats are\n",
      "Ratio of NGU speed to xp is 2717063156.623596\n",
      "Ratio of Beard speed to xp is 12.619104434356364\n",
      "Ratio of Advanced Training speed to xp is 473216.4162883637\n"
     ]
    },
    {
     "data": {
      "text/plain": [
       "(2717063156.623596, 12.619104434356364, 473216.4162883637)"
      ]
     },
     "execution_count": 8,
     "metadata": {},
     "output_type": "execute_result"
    }
   ],
   "source": [
    "meta_ratio = Ratio(3, 75000, 2)\n",
    "xp = 1e10\n",
    "meta_ratio.give_me_stats(xp)"
   ]
  },
  {
   "cell_type": "code",
   "execution_count": 10,
   "metadata": {},
   "outputs": [
    {
     "name": "stdout",
     "output_type": "stream",
     "text": [
      "This is the best ratio found\n",
      "For the ratio of 1 power : 39300.0 cap : 0.7704160246533127 bars and xp 1000000.0 the stats are\n",
      "Ratio of NGU speed to xp is 288889.8904758369\n",
      "Ratio of Beard speed to xp is 0.10876274324052615\n",
      "Ratio of Advanced Training speed to xp is 5548.139800539776\n",
      "\n",
      "This is the meta ratio\n",
      "For the ratio of 3 power : 75000 cap : 2 bars and xp 1000000.0 the stats are\n",
      "Ratio of NGU speed to xp is 271706.31566235964\n",
      "Ratio of Beard speed to xp is 0.12619104434356365\n",
      "Ratio of Advanced Training speed to xp is 4732.164162883637\n",
      "\n",
      "These are the gains for the three speeds between best found ratio and meta ratio\n",
      "For the ratio of 1 power : 39300.0 cap : 0.7704160246533127 bars and xp 1000000.0 the stats are\n",
      "Ratio of NGU speed to xp is 288889.8904758369\n",
      "Ratio of Beard speed to xp is 0.10876274324052615\n",
      "Ratio of Advanced Training speed to xp is 5548.139800539776\n",
      "[0] : 1.0632431924579577\n",
      "[1] : 0.8618895564760699\n",
      "[2] : 1.172431811232624\n"
     ]
    }
   ],
   "source": [
    "########### Weighted Big Loop #######################\n",
    "# this may take a little while to run\n",
    "xp = 1e6\n",
    "meta_ratio = Ratio(3, 75000, 2)\n",
    "best_ratio = meta_ratio\n",
    "best_stats = best_ratio.give_me_stats(xp, to_print=False)\n",
    "holy_number = 37500\n",
    "step_size = 1000\n",
    "weights = (1.01, 0.85, 0.7)\n",
    "# the weights for ngu, beard and advanced training speed indicate how much gain \n",
    "# we are looking for in the specific speed or how much loss we are willing to accept\n",
    "# to locate a \"better\" ratio. The best found speed for each category is saved and \n",
    "# new ratios' performance is compared against it\n",
    "for i in range(int(1.5*step_size)):\n",
    "    power_bar_ratio = 0.5 + i/step_size\n",
    "    new_bar = 1 / power_bar_ratio\n",
    "\n",
    "    for j in range(int(1*step_size)):\n",
    "        cap_power_ratio = holy_number*(0.25 + i/step_size)\n",
    "        new_cap = cap_power_ratio\n",
    "\n",
    "        new_ratio = Ratio(1, new_cap, new_bar)\n",
    "        new_stats = new_ratio.give_me_stats(xp, to_print=False)\n",
    "        if compare_ratio_stats(new_stats, best_stats, weights=weights):\n",
    "            best_stats = best_stats_ratio(new_stats, best_stats)\n",
    "            best_ratio = new_ratio\n",
    "print('This is the best ratio found')\n",
    "best_ratio.give_me_stats(xp)\n",
    "print('\\nThis is the meta ratio')\n",
    "meta_ratio.give_me_stats(xp)\n",
    "print('\\nThese are the gains for the three speeds between best found ratio and meta ratio')\n",
    "print_compare_ratio_stats(best_ratio.give_me_stats(xp), meta_ratio.give_me_stats(xp, to_print=False))\n"
   ]
  },
  {
   "cell_type": "code",
   "execution_count": null,
   "metadata": {},
   "outputs": [],
   "source": []
  }
 ],
 "metadata": {
  "kernelspec": {
   "display_name": "Python 3",
   "language": "python",
   "name": "python3"
  },
  "language_info": {
   "codemirror_mode": {
    "name": "ipython",
    "version": 3
   },
   "file_extension": ".py",
   "mimetype": "text/x-python",
   "name": "python",
   "nbconvert_exporter": "python",
   "pygments_lexer": "ipython3",
   "version": "3.7.1"
  }
 },
 "nbformat": 4,
 "nbformat_minor": 2
}
